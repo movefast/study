{
 "cells": [
  {
   "cell_type": "code",
   "execution_count": 5,
   "metadata": {},
   "outputs": [],
   "source": [
    "import torch"
   ]
  },
  {
   "cell_type": "code",
   "execution_count": 4,
   "metadata": {},
   "outputs": [
    {
     "data": {
      "text/plain": [
       "torch.cuda.FloatTensor"
      ]
     },
     "execution_count": 4,
     "metadata": {},
     "output_type": "execute_result"
    }
   ],
   "source": [
    "torch.cuda.FloatTensor"
   ]
  },
  {
   "cell_type": "code",
   "execution_count": 6,
   "metadata": {},
   "outputs": [],
   "source": [
    "import numpy as np"
   ]
  },
  {
   "cell_type": "code",
   "execution_count": 7,
   "metadata": {},
   "outputs": [],
   "source": [
    "import moviepy.editor as mpe\n",
    "# from IPython.display import display\n",
    "# from glob import glob"
   ]
  },
  {
   "cell_type": "code",
   "execution_count": 8,
   "metadata": {},
   "outputs": [],
   "source": [
    "import imageio"
   ]
  },
  {
   "cell_type": "code",
   "execution_count": 10,
   "metadata": {},
   "outputs": [
    {
     "name": "stdout",
     "output_type": "stream",
     "text": [
      "Imageio: 'ffmpeg.osx' was not found on your computer; downloading it now.\n",
      "Try 1. Download from https://github.com/imageio/imageio-binaries/raw/master/ffmpeg/ffmpeg.osx (28.8 MB)\n",
      "Downloading: 8192/30241064 bytes (0.0385024/30241064 bytes (1.3974848/30241064 bytes (3.21818624/30241064 bytes (6.0%2793472/30241064 bytes (9.2%3760128/30241064 bytes (12.44710400/30241064 bytes (15.65627904/30241064 bytes (18.66905856/30241064 bytes (22.87856128/30241064 bytes (26.08806400/30241064 bytes (29.19773056/30241064 bytes (32.310739712/30241064 bytes (35.5%11689984/30241064 bytes (38.7%12656640/30241064 bytes (41.9%13606912/30241064 bytes (45.0%14573568/30241064 bytes (48.2%15540224/30241064 bytes (51.4%16490496/30241064 bytes (54.5%17457152/30241064 bytes (57.7%18391040/30241064 bytes (60.8%19365888/30241064 bytes (64.0%20324352/30241064 bytes (67.2%21274624/30241064 bytes (70.4%22249472/30241064 bytes (73.6%23191552/30241064 bytes (76.7%24141824/30241064 bytes (79.8%25116672/30241064 bytes (83.1%26075136/30241064 bytes (86.2%27033600/30241064 bytes (89.4%27983872/30241064 bytes (92.5%28942336/30241064 bytes (95.7%29908992/30241064 bytes (98.9%30241064/30241064 bytes (100.0%)\n",
      "  Done\n",
      "File saved as /Users/Derek/Library/Application Support/imageio/ffmpeg/ffmpeg.osx.\n"
     ]
    }
   ],
   "source": [
    "imageio.plugins.ffmpeg.download()"
   ]
  },
  {
   "cell_type": "code",
   "execution_count": 9,
   "metadata": {},
   "outputs": [],
   "source": [
    "import os\n",
    "homedir = os.environ['HOME']\n",
    "video = mpe.VideoFileClip(os.path.join(homedir,'Downloads/Video_003/Video_003.avi'))"
   ]
  },
  {
   "cell_type": "code",
   "execution_count": 19,
   "metadata": {},
   "outputs": [
    {
     "name": "stderr",
     "output_type": "stream",
     "text": [
      "100%|█████████▉| 350/351 [00:00<00:00, 1749.70it/s]\n"
     ]
    }
   ],
   "source": [
    "video.subclip(0,50).ipython_display(width=300)"
   ]
  },
  {
   "cell_type": "code",
   "execution_count": 20,
   "metadata": {},
   "outputs": [
    {
     "data": {
      "text/plain": [
       "113.57"
      ]
     },
     "execution_count": 20,
     "metadata": {},
     "output_type": "execute_result"
    }
   ],
   "source": [
    "video.duration"
   ]
  },
  {
   "cell_type": "code",
   "execution_count": 44,
   "metadata": {},
   "outputs": [
    {
     "data": {
      "text/plain": [
       "(240, 320, 3)"
      ]
     },
     "execution_count": 44,
     "metadata": {},
     "output_type": "execute_result"
    }
   ],
   "source": [
    "video.get_frame(2/5)[:,:,:3].shape"
   ]
  },
  {
   "cell_type": "code",
   "execution_count": 10,
   "metadata": {},
   "outputs": [],
   "source": [
    "import numpy as np\n",
    "from sklearn.datasets import fetch_20newsgroups\n",
    "from sklearn import decomposition\n",
    "from scipy import linalg\n",
    "import matplotlib.pyplot as plt"
   ]
  },
  {
   "cell_type": "code",
   "execution_count": 15,
   "metadata": {},
   "outputs": [],
   "source": [
    "%matplotlib inline\n",
    "np.set_printoptions(suppress=True)"
   ]
  },
  {
   "cell_type": "code",
   "execution_count": 47,
   "metadata": {},
   "outputs": [
    {
     "name": "stderr",
     "output_type": "stream",
     "text": [
      "Downloading 20news dataset. This may take a few minutes.\n",
      "Downloading dataset from https://ndownloader.figshare.com/files/5975967 (14 MB)\n"
     ]
    }
   ],
   "source": [
    "categories = ['alt.atheism', 'talk.religion.misc', 'comp.graphics', 'sci.space']\n",
    "remove = ('headers', 'footers', 'quotes')\n",
    "newsgroups_train = fetch_20newsgroups(subset='train', categories=categories, remove=remove)\n",
    "newsgroups_test = fetch_20newsgroups(subset='test', categories=categories, remove=remove)"
   ]
  },
  {
   "cell_type": "code",
   "execution_count": 48,
   "metadata": {},
   "outputs": [
    {
     "data": {
      "text/plain": [
       "((2034,), (2034,))"
      ]
     },
     "execution_count": 48,
     "metadata": {},
     "output_type": "execute_result"
    }
   ],
   "source": [
    "newsgroups_train.filenames.shape, newsgroups_train.target.shape"
   ]
  },
  {
   "cell_type": "code",
   "execution_count": 49,
   "metadata": {
    "collapsed": true
   },
   "outputs": [
    {
     "name": "stdout",
     "output_type": "stream",
     "text": [
      "Hi,\n",
      "\n",
      "I've noticed that if you only save a model (with all your mapping planes\n",
      "positioned carefully) to a .3DS file that when you reload it after restarting\n",
      "3DS, they are given a default position and orientation.  But if you save\n",
      "to a .PRJ file their positions/orientation are preserved.  Does anyone\n",
      "know why this information is not stored in the .3DS file?  Nothing is\n",
      "explicitly said in the manual about saving texture rules in the .PRJ file. \n",
      "I'd like to be able to read the texture rule information, does anyone have \n",
      "the format for the .PRJ file?\n",
      "\n",
      "Is the .CEL file format available from somewhere?\n",
      "\n",
      "Rych\n",
      "\n",
      "\n",
      "Seems to be, barring evidence to the contrary, that Koresh was simply\n",
      "another deranged fanatic who thought it neccessary to take a whole bunch of\n",
      "folks with him, children and all, to satisfy his delusional mania. Jim\n",
      "Jones, circa 1993.\n",
      "\n",
      "\n",
      "Nope - fruitcakes like Koresh have been demonstrating such evil corruption\n",
      "for centuries.\n",
      "\n",
      " >In article <1993Apr19.020359.26996@sq.sq.com>, msb@sq.sq.com (Mark Brader) \n",
      "\n",
      "MB>                                                             So the\n",
      "MB> 1970 figure seems unlikely to actually be anything but a perijove.\n",
      "\n",
      "JG>Sorry, _perijoves_...I'm not used to talking this language.\n",
      "\n",
      "Couldn't we just say periapsis or apoapsis?\n",
      "\n",
      " \n"
     ]
    }
   ],
   "source": [
    "print(\"\\n\".join(newsgroups_train.data[:3]))"
   ]
  },
  {
   "cell_type": "code",
   "execution_count": 50,
   "metadata": {},
   "outputs": [
    {
     "data": {
      "text/plain": [
       "array([1, 3, 2, ..., 1, 0, 1])"
      ]
     },
     "execution_count": 50,
     "metadata": {},
     "output_type": "execute_result"
    }
   ],
   "source": [
    "newsgroups_train.target"
   ]
  },
  {
   "cell_type": "code",
   "execution_count": 51,
   "metadata": {},
   "outputs": [
    {
     "data": {
      "text/plain": [
       "array(['comp.graphics', 'talk.religion.misc', 'sci.space'], \n",
       "      dtype='<U18')"
      ]
     },
     "execution_count": 51,
     "metadata": {},
     "output_type": "execute_result"
    }
   ],
   "source": [
    "np.array(newsgroups_train.target_names)[newsgroups_train.target[:3]]"
   ]
  },
  {
   "cell_type": "code",
   "execution_count": 65,
   "metadata": {},
   "outputs": [],
   "source": [
    "from scipy import linalg"
   ]
  },
  {
   "cell_type": "markdown",
   "metadata": {
    "heading_collapsed": true
   },
   "source": [
    "## Randomized SVD"
   ]
  },
  {
   "cell_type": "code",
   "execution_count": 66,
   "metadata": {
    "hidden": true
   },
   "outputs": [],
   "source": [
    "def randomized_range_finder(A, size, n_iter=5):\n",
    "    Q = np.random.normal(size=(A.shape[1], size))\n",
    "    \n",
    "    Q, _ = linalg.qr(A @ Q, mode='economic')\n",
    "    return Q"
   ]
  },
  {
   "cell_type": "code",
   "execution_count": 100,
   "metadata": {
    "hidden": true
   },
   "outputs": [],
   "source": [
    "def randomized_svd(M, n_components, n_oversamples=10, n_iter=4):\n",
    "    n_random = n_components + n_oversamples\n",
    "    Q = randomized_range_finder(M, n_random, n_iter)\n",
    "    B = Q.T @ M\n",
    "    Uhat, s, V = linalg.svd(B, full_matrices=False)\n",
    "    del B\n",
    "    U = Q @ Uhat\n",
    "    return U[:, :n_components], s[:n_components], V[:n_components,:]"
   ]
  },
  {
   "cell_type": "code",
   "execution_count": 101,
   "metadata": {
    "hidden": true
   },
   "outputs": [],
   "source": [
    "A = np.random.normal(size=(100,100))"
   ]
  },
  {
   "cell_type": "code",
   "execution_count": 103,
   "metadata": {
    "hidden": true
   },
   "outputs": [],
   "source": [
    "U, s, V = randomized_svd(A, 5)"
   ]
  },
  {
   "cell_type": "code",
   "execution_count": 104,
   "metadata": {
    "hidden": true
   },
   "outputs": [
    {
     "data": {
      "text/plain": [
       "array([[-0.11343785,  0.10078017, -0.08946503,  0.12576546, -0.04821232],\n",
       "       [ 0.02953275,  0.02202398,  0.06489448, -0.09443883,  0.02634898],\n",
       "       [ 0.04351934,  0.00565132,  0.0628264 ,  0.11596684,  0.17220694],\n",
       "       [ 0.12235316,  0.05281065, -0.13153273,  0.04424642,  0.21185861],\n",
       "       [ 0.14391819, -0.08307864, -0.02280615,  0.14971916,  0.05397003],\n",
       "       [ 0.04347207, -0.01263343, -0.10276072, -0.15471492,  0.00222951],\n",
       "       [ 0.09739154,  0.09256962,  0.00326818,  0.03566533,  0.01986808],\n",
       "       [ 0.09343189, -0.03991328, -0.04110523,  0.10147195, -0.01060321],\n",
       "       [-0.09943097,  0.02647201, -0.08863111,  0.08245927, -0.02755005],\n",
       "       [ 0.06710349,  0.21331941, -0.03874614, -0.05168951,  0.11646837],\n",
       "       [ 0.12030433,  0.07051409,  0.05628268, -0.10165231, -0.15835567],\n",
       "       [-0.01607343,  0.07777702, -0.06192287,  0.0313028 , -0.15505656],\n",
       "       [ 0.08206789,  0.03691284,  0.06679533, -0.08350645,  0.16042065],\n",
       "       [ 0.04364336, -0.01045999,  0.02000147,  0.03163351,  0.16969519],\n",
       "       [-0.02736646,  0.05828813,  0.03482337,  0.07117764,  0.00706748],\n",
       "       [ 0.02482997,  0.03677547, -0.0198018 ,  0.0356629 ,  0.01473448],\n",
       "       [ 0.00740164,  0.14548644,  0.1372692 ,  0.14710026, -0.01581194],\n",
       "       [-0.17926387, -0.06389551,  0.0266114 , -0.03853513,  0.09691993],\n",
       "       [-0.00959201, -0.0165268 ,  0.02162758,  0.06156337, -0.00643091],\n",
       "       [-0.09340212, -0.06680516, -0.12617212,  0.05973944, -0.07260256],\n",
       "       [-0.03121157, -0.00140172,  0.02648617,  0.083644  , -0.01097698],\n",
       "       [-0.00622258,  0.0487917 ,  0.07658179,  0.08235652,  0.11194695],\n",
       "       [ 0.16162536, -0.15915458, -0.15907077, -0.10431044,  0.18662923],\n",
       "       [ 0.05755109,  0.13917852,  0.13814123,  0.04774   , -0.1202175 ],\n",
       "       [ 0.08438429, -0.07600219,  0.05385498,  0.0518416 , -0.0183724 ],\n",
       "       [-0.03817663, -0.13275431, -0.0264198 ,  0.07531446, -0.13357626],\n",
       "       [ 0.12100877,  0.04594101, -0.07782325,  0.0524928 , -0.1115802 ],\n",
       "       [-0.03798802,  0.02327845,  0.08145244, -0.03242001,  0.03589158],\n",
       "       [-0.10182365,  0.13845264,  0.10229426,  0.12495637, -0.16022376],\n",
       "       [ 0.0844953 , -0.07038226, -0.12827587,  0.16712724,  0.01129621],\n",
       "       [-0.12725829,  0.00114885,  0.03014673, -0.10357081,  0.08687545],\n",
       "       [-0.0905655 , -0.00729194,  0.04927024, -0.01146395,  0.03780311],\n",
       "       [ 0.10915262,  0.06197691,  0.10305935,  0.05624053,  0.0976138 ],\n",
       "       [ 0.02281141,  0.06251455, -0.08151083,  0.02021949,  0.09224128],\n",
       "       [ 0.06837874,  0.17820531, -0.07322353, -0.24195121, -0.02271166],\n",
       "       [ 0.04928466,  0.09622853,  0.17349208,  0.16760832, -0.00506337],\n",
       "       [-0.03458033, -0.00658947,  0.09672448,  0.11368057,  0.02044526],\n",
       "       [ 0.26866932,  0.04777326, -0.04108934,  0.0030678 , -0.12303628],\n",
       "       [ 0.00795977, -0.03026689, -0.06492143, -0.12446874,  0.12642685],\n",
       "       [-0.03668015, -0.05354404,  0.13986912,  0.03075801, -0.17232368],\n",
       "       [ 0.16996306,  0.05045504, -0.01369226, -0.06493872,  0.10339632],\n",
       "       [ 0.11827447,  0.07430984, -0.04684075,  0.10018748,  0.00802415],\n",
       "       [ 0.10495025,  0.0732467 , -0.12499549,  0.04500871, -0.2203642 ],\n",
       "       [ 0.11660068, -0.08461372,  0.1601465 ,  0.11324243,  0.03802607],\n",
       "       [ 0.0702728 , -0.23948028, -0.05344249, -0.12205579, -0.12178187],\n",
       "       [ 0.03903702, -0.16894662,  0.01027793,  0.08456365,  0.17947279],\n",
       "       [ 0.07734383,  0.11897539, -0.19883982, -0.07157402, -0.04665036],\n",
       "       [ 0.07471634, -0.11265544,  0.00220649, -0.11149489,  0.05273932],\n",
       "       [ 0.20219059, -0.14495404,  0.19371781, -0.15297718, -0.11513772],\n",
       "       [ 0.05597129,  0.06654518,  0.07580154,  0.03695875,  0.01831564],\n",
       "       [ 0.24141135,  0.10740524, -0.0161724 , -0.13330316,  0.19120499],\n",
       "       [-0.08915789,  0.22358874,  0.00857   , -0.10811765,  0.03012264],\n",
       "       [ 0.02120269,  0.1141536 ,  0.0112961 , -0.06442528,  0.04062964],\n",
       "       [ 0.04122826, -0.15441962, -0.02047674,  0.07050583, -0.00292495],\n",
       "       [-0.09162891, -0.09627214, -0.03303834,  0.19329016,  0.17323229],\n",
       "       [-0.07710388,  0.10094596,  0.00874338,  0.06317257,  0.00374595],\n",
       "       [-0.06392467, -0.001082  ,  0.07510852, -0.08432708, -0.16254559],\n",
       "       [ 0.04100386, -0.09348751,  0.05635535, -0.02719825,  0.05806708],\n",
       "       [-0.03455552, -0.07919243,  0.23862431, -0.01907207, -0.04953908],\n",
       "       [ 0.05600508, -0.0969624 , -0.01014728,  0.08921925, -0.04535941],\n",
       "       [ 0.05468767, -0.11414054,  0.01654606, -0.0400631 , -0.00223179],\n",
       "       [ 0.14666121, -0.01900785, -0.14418126,  0.0376882 , -0.12296183],\n",
       "       [ 0.01232586,  0.17704957, -0.06765792,  0.00046555, -0.05299073],\n",
       "       [-0.10267036, -0.0271961 ,  0.14094761, -0.17450475,  0.12132522],\n",
       "       [ 0.10738604,  0.0853249 , -0.00405069, -0.01916001,  0.0399624 ],\n",
       "       [ 0.07048966,  0.12759778,  0.12194116, -0.09261314, -0.09020017],\n",
       "       [-0.0093071 , -0.07062822,  0.00130796, -0.03969543,  0.06940369],\n",
       "       [ 0.08391272, -0.19717196, -0.01134993, -0.06601013, -0.00430748],\n",
       "       [ 0.10892837,  0.03600378,  0.10170495,  0.19203928,  0.01351388],\n",
       "       [ 0.07566337, -0.05985959, -0.09180785,  0.06235519, -0.07567786],\n",
       "       [-0.02403052,  0.10130993, -0.13231357, -0.05371145, -0.0522719 ],\n",
       "       [ 0.06323137,  0.06534994,  0.16410696, -0.12271065,  0.09405759],\n",
       "       [ 0.14831359,  0.09586056,  0.12348061,  0.00203328,  0.09870044],\n",
       "       [ 0.01530558,  0.04986627, -0.07687672, -0.10368818, -0.07999291],\n",
       "       [ 0.02827124,  0.08396154, -0.08823393, -0.08192367,  0.12939491],\n",
       "       [ 0.05341302,  0.02707466,  0.00024977,  0.09732036, -0.02903985],\n",
       "       [ 0.234545  ,  0.03830557,  0.10699916,  0.04748596,  0.10555855],\n",
       "       [ 0.01624109, -0.10163382, -0.14990635, -0.01452777, -0.02024754],\n",
       "       [ 0.04707863,  0.07162747,  0.07089053, -0.01473058,  0.10331479],\n",
       "       [-0.05242368,  0.03204113, -0.22119201,  0.0241278 ,  0.06722684],\n",
       "       [-0.04689934, -0.06464549,  0.22182071,  0.18747347, -0.12705837],\n",
       "       [-0.12141229,  0.02998962, -0.00868525,  0.0469117 ,  0.10898776],\n",
       "       [ 0.15723685, -0.04496914, -0.14666435,  0.06559313, -0.02176426],\n",
       "       [ 0.10660253, -0.28570491,  0.11831858, -0.17162446, -0.15416342],\n",
       "       [-0.12490604, -0.10662956,  0.11653622, -0.20549691,  0.04531017],\n",
       "       [ 0.05060279, -0.10074537, -0.0044857 ,  0.03142439,  0.13368155],\n",
       "       [-0.02888098, -0.02884321, -0.08447235, -0.14058244,  0.0436101 ],\n",
       "       [-0.0646648 , -0.08831651,  0.15738918, -0.05902605,  0.02857609],\n",
       "       [-0.057416  , -0.04448479, -0.00331741, -0.0206564 ,  0.04494367],\n",
       "       [ 0.2561643 , -0.00088088,  0.23291675,  0.05941884,  0.05249319],\n",
       "       [ 0.01170357, -0.05578387,  0.08650459, -0.0806738 ,  0.06200403],\n",
       "       [-0.07943442, -0.16748831, -0.11648876, -0.0367577 , -0.00077136],\n",
       "       [ 0.03444179,  0.13494371,  0.16050578, -0.01723401, -0.01742663],\n",
       "       [ 0.15047419,  0.04616195, -0.04760717, -0.14435246, -0.02891471],\n",
       "       [-0.02821092,  0.11224067,  0.09959745, -0.20115645, -0.10008313],\n",
       "       [ 0.12309963,  0.15364996, -0.10755326,  0.1014301 , -0.17645125],\n",
       "       [-0.11782891,  0.04122184, -0.064542  ,  0.15172021,  0.29034781],\n",
       "       [ 0.09186816,  0.06696314,  0.00159463, -0.09689276,  0.06730377],\n",
       "       [-0.16337343,  0.12217428,  0.11287312,  0.00715549,  0.08235334],\n",
       "       [ 0.16518315, -0.15242544, -0.00482592,  0.20662283,  0.03094003]])"
      ]
     },
     "execution_count": 104,
     "metadata": {},
     "output_type": "execute_result"
    }
   ],
   "source": [
    "U"
   ]
  },
  {
   "cell_type": "markdown",
   "metadata": {},
   "source": [
    "## PCA"
   ]
  },
  {
   "cell_type": "code",
   "execution_count": null,
   "metadata": {},
   "outputs": [],
   "source": []
  },
  {
   "cell_type": "markdown",
   "metadata": {},
   "source": [
    "## Robust PCA"
   ]
  },
  {
   "cell_type": "code",
   "execution_count": 1,
   "metadata": {},
   "outputs": [],
   "source": [
    "from scipy import sparse\n",
    "from sklearn.utils.extmath import randomized_svd\n",
    "import fbpca"
   ]
  },
  {
   "cell_type": "code",
   "execution_count": 106,
   "metadata": {},
   "outputs": [],
   "source": [
    "TOL=1e-9\n",
    "MAX_ITERS=3"
   ]
  },
  {
   "cell_type": "code",
   "execution_count": 2,
   "metadata": {},
   "outputs": [],
   "source": [
    "def converged(Z, d_norm):\n",
    "    err = np.linalg.norm(Z, 'fro') / d_norm"
   ]
  },
  {
   "cell_type": "code",
   "execution_count": 11,
   "metadata": {},
   "outputs": [],
   "source": [
    "def LU(A):\n",
    "    U = np.copy(A)\n",
    "    m, n = A.shape\n",
    "    L = np.eye(n)\n",
    "    \n",
    "    for k in range(n):\n",
    "        for j in range(k+1, m):\n",
    "            L[j,k] = U[j,k] / U[k, k]\n",
    "            U[j,k:n] -= L[j,k] * U[k,k:n]\n",
    "    return U, L"
   ]
  },
  {
   "cell_type": "code",
   "execution_count": 22,
   "metadata": {},
   "outputs": [],
   "source": [
    "A = np.random.normal(10,5,size=(5,5))"
   ]
  },
  {
   "cell_type": "code",
   "execution_count": 25,
   "metadata": {},
   "outputs": [],
   "source": [
    "U, L = LU(A)"
   ]
  },
  {
   "cell_type": "code",
   "execution_count": 26,
   "metadata": {},
   "outputs": [
    {
     "data": {
      "text/plain": [
       "True"
      ]
     },
     "execution_count": 26,
     "metadata": {},
     "output_type": "execute_result"
    }
   ],
   "source": [
    "np.allclose(L @ U, A)"
   ]
  },
  {
   "cell_type": "code",
   "execution_count": null,
   "metadata": {},
   "outputs": [],
   "source": []
  }
 ],
 "metadata": {
  "kernelspec": {
   "display_name": "Python 3",
   "language": "python",
   "name": "python3"
  },
  "language_info": {
   "codemirror_mode": {
    "name": "ipython",
    "version": 3
   },
   "file_extension": ".py",
   "mimetype": "text/x-python",
   "name": "python",
   "nbconvert_exporter": "python",
   "pygments_lexer": "ipython3",
   "version": "3.6.4"
  }
 },
 "nbformat": 4,
 "nbformat_minor": 2
}
